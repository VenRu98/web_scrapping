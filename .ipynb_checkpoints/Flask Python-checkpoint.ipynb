{
 "cells": [
  {
   "cell_type": "markdown",
   "metadata": {},
   "source": [
    "# Flask Python\n",
    "## Hasil Scrapping akan di tampilkan ke website yang di buat dengan bahasa python menggunakan flask\n",
    "### 1. Installation\n",
    "1. Install virtual environment: ```pip3 install virtualenv```\n",
    "2. Membuat Environment \n",
    "\n",
    "<code>mkdir kpflask\n",
    "cd kpflask\n",
    "py -3 -m venv venv\n",
    "</code>\n",
    "3. Install Flask: ```pip3 install Flask```"
   ]
  }
 ],
 "metadata": {
  "kernelspec": {
   "display_name": "Python 3",
   "language": "python",
   "name": "python3"
  },
  "language_info": {
   "codemirror_mode": {
    "name": "ipython",
    "version": 3
   },
   "file_extension": ".py",
   "mimetype": "text/x-python",
   "name": "python",
   "nbconvert_exporter": "python",
   "pygments_lexer": "ipython3",
   "version": "3.7.3"
  }
 },
 "nbformat": 4,
 "nbformat_minor": 4
}
