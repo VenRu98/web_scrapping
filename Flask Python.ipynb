{
 "cells": [
  {
   "cell_type": "markdown",
   "metadata": {},
   "source": [
    "# Flask Python\n",
    "## Hasil Scrapping akan di tampilkan ke website yang di buat dengan bahasa python menggunakan flask\n",
    "### 1. Installation\n",
    "1. Mempersiapkan Flask dan Virtual Environment :\n",
    "```bash\n",
    "pip3 install virtualenv\n",
    "pip3 install Flask\n",
    "```\n",
    "2. Membuat Environment \n",
    "```bash\n",
    "mkdir kpflask\n",
    "cd kpflask\n",
    "py -m venv env\n",
    "```\n",
    "3. Menjalankan Environment dan setting environment FLASK_APP\n",
    "```bash\n",
    "env\\Scripts\\activate\n",
    "```\n",
    "4. Membuat app.py ke dalam project kpflask yang folder tersebut sudah di buat pada poin (2)"
   ]
  },
  {
   "cell_type": "code",
   "execution_count": null,
   "metadata": {},
   "outputs": [],
   "source": [
    "# app.py\n",
    "from flask import Flask\n",
    "app=Flask(__name__)\n",
    "\n",
    "@app.route('/<name>')\n",
    "def index():\n",
    "    return '<h1>Hello {}!</h1>'.format(name)"
   ]
  }
 ],
 "metadata": {
  "kernelspec": {
   "display_name": "Python 3",
   "language": "python",
   "name": "python3"
  },
  "language_info": {
   "codemirror_mode": {
    "name": "ipython",
    "version": 3
   },
   "file_extension": ".py",
   "mimetype": "text/x-python",
   "name": "python",
   "nbconvert_exporter": "python",
   "pygments_lexer": "ipython3",
   "version": "3.7.3"
  }
 },
 "nbformat": 4,
 "nbformat_minor": 4
}
