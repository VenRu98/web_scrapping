{
 "cells": [
  {
   "cell_type": "code",
   "execution_count": 7,
   "metadata": {},
   "outputs": [],
   "source": [
    "from selenium import webdriver\n",
    "from bs4 import BeautifulSoup\n",
    "import requests\n",
    "from numpy import array\n",
    "import time\n",
    "import random\n",
    "\n",
    "user_agent = 'Firefox/76.0 ( Win64; x64; Linux x86_64) AppleWebKit/537.36 (KHTML, like Gecko) Chrome/60.0.3112.50 Safari/537.36'\n",
    "profile = webdriver.FirefoxProfile()\n",
    "profile.set_preference(\"general.useragent.override\", user_agent)\n",
    "profile.update_preferences()\n",
    "options = webdriver.FirefoxOptions()\n",
    "options.add_argument('--private')\n",
    "options.add_argument('--no-sandbox')\n",
    "\n",
    "driver = webdriver.Firefox(firefox_profile=profile,options=options)"
   ]
  },
  {
   "cell_type": "code",
   "execution_count": null,
   "metadata": {},
   "outputs": [],
   "source": [
    "link=\"https://www.frenzycode454.com\"\n",
    "driver.get(link)\n",
    "driver.refresh()"
   ]
  },
  {
   "cell_type": "code",
   "execution_count": 41,
   "metadata": {},
   "outputs": [],
   "source": [
    "\n",
    "periode=[]\n",
    "harga=[]\n",
    "jumlah=[]\n",
    "hasil=[]\n",
    "for i in range(1,481):\n",
    "    periode.append(driver.execute_script(\"return document.querySelector('div.content:nth-child(\"+ str(i)+\") > div:nth-child(1)')\").text)\n",
    "    harga.append(driver.execute_script(\"return document.querySelector('div.content:nth-child(\"+str(i)+\") > div:nth-child(2)')\").text)\n",
    "    jumlah.append(driver.execute_script(\"return document.querySelector('div.content:nth-child(\"+str(i)+\") > div:nth-child(3)')\").text)\n",
    "#     scripthasilkiri=\"return document.querySelector('div.content:nth-child(\"+str(i)+\") > div:nth-child(4) > div:nth-child(1) > div:nth-child(1)'\"\n",
    "#     scripthasilkanan=\"return document.querySelector('div.content:nth-child(\"+str(i)+\") > div:nth-child(4) > div:nth-child(1) > div:nth-child(2)'\"\n",
    "#     kiri= driver.execute_script( scripthasilkiri ).text\n",
    "#     kanan= driver.execute_script( scripthasilkanan ).text\n",
    "#     hasil.append( [ kiri,kanan] )\n",
    "    driver.execute_script(\"window.scrollBy(0, 200)\")\n"
   ]
  },
  {
   "cell_type": "code",
   "execution_count": 43,
   "metadata": {},
   "outputs": [
    {
     "data": {
      "text/plain": [
       "480"
      ]
     },
     "execution_count": 43,
     "metadata": {},
     "output_type": "execute_result"
    }
   ],
   "source": [
    "len(periode)"
   ]
  },
  {
   "cell_type": "code",
   "execution_count": 38,
   "metadata": {},
   "outputs": [
    {
     "data": {
      "text/plain": [
       "['205,339', '205,354', '205,336', '205,314', '205,326']"
      ]
     },
     "execution_count": 38,
     "metadata": {},
     "output_type": "execute_result"
    }
   ],
   "source": [
    "harga"
   ]
  },
  {
   "cell_type": "code",
   "execution_count": 39,
   "metadata": {},
   "outputs": [
    {
     "data": {
      "text/plain": [
       "['9', '4', '6', '4', '6']"
      ]
     },
     "execution_count": 39,
     "metadata": {},
     "output_type": "execute_result"
    }
   ],
   "source": [
    "jumlah\n",
    "# genap = merah\n",
    "# ganjil = hijau\n",
    "# 5 hijau ungu\n",
    "# 0 merah ungu"
   ]
  },
  {
   "cell_type": "code",
   "execution_count": null,
   "metadata": {},
   "outputs": [],
   "source": [
    "for i in jumlah:\n",
    "    if(int(i)==5):\n",
    "        warnakiri.append(\"hijau\")\n",
    "        warnakanan.append(\"ungu\")\n",
    "    elif(int(i)==0):\n",
    "        warnakiri.append(\"merah\")\n",
    "        warnakanan.append(\"ungu\")\n",
    "    elif(int(i)%2==0):\n",
    "        warnakiri.append(\"merah\")\n",
    "        warnakanan.append(\"\")\n",
    "    elif(int(i)%2!=0):\n",
    "        warnakiri.append(\"hijau\")\n",
    "        warnakanan.append(\"\")"
   ]
  },
  {
   "cell_type": "code",
   "execution_count": 44,
   "metadata": {},
   "outputs": [],
   "source": [
    "import pandas as pd\n",
    "dataJson={'periode': periode,\n",
    "        'Harga': harga,\n",
    "        'Jumlah': jumlah,\n",
    "         'WarnaKiri':warnakiri,\n",
    "         'WarnaKanan':warnakanan}\n",
    "df = pd.DataFrame(dataJson)\n",
    "df.to_csv(\"frenzy.csv\")\n",
    "# !cp Output_dotaBuff.csv \"drive/My Drive/METODOLOGI PENELITIAN\""
   ]
  },
  {
   "cell_type": "code",
   "execution_count": 27,
   "metadata": {},
   "outputs": [
    {
     "data": {
      "text/plain": [
       "<selenium.webdriver.firefox.webelement.FirefoxWebElement (session=\"34ba80c9-dac6-4316-ae24-b8046dcfedc4\", element=\"77bc7d9c-76ee-41bd-a3d8-1b45fe2c7e2e\")>"
      ]
     },
     "execution_count": 27,
     "metadata": {},
     "output_type": "execute_result"
    }
   ],
   "source": [
    "driver.execute_script(\"return document.querySelector('div.content:nth-child(1) > div:nth-child(1)')\")"
   ]
  },
  {
   "cell_type": "code",
   "execution_count": 24,
   "metadata": {},
   "outputs": [
    {
     "data": {
      "text/plain": [
       "'point-box__anodd'"
      ]
     },
     "execution_count": 24,
     "metadata": {},
     "output_type": "execute_result"
    }
   ],
   "source": [
    "data.get_attribute(\"class\")"
   ]
  },
  {
   "cell_type": "code",
   "execution_count": 9,
   "metadata": {},
   "outputs": [],
   "source": [
    "driver.execute_scipt()"
   ]
  },
  {
   "cell_type": "code",
   "execution_count": 2,
   "metadata": {},
   "outputs": [],
   "source": [
    "driver.quit()"
   ]
  }
 ],
 "metadata": {
  "kernelspec": {
   "display_name": "Python 3",
   "language": "python",
   "name": "python3"
  },
  "language_info": {
   "codemirror_mode": {
    "name": "ipython",
    "version": 3
   },
   "file_extension": ".py",
   "mimetype": "text/x-python",
   "name": "python",
   "nbconvert_exporter": "python",
   "pygments_lexer": "ipython3",
   "version": "3.7.3"
  }
 },
 "nbformat": 4,
 "nbformat_minor": 4
}
